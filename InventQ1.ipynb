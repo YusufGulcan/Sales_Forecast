{
 "cells": [
  {
   "cell_type": "code",
   "execution_count": 135,
   "metadata": {},
   "outputs": [],
   "source": [
    "import pandas as pd\n",
    "import numpy as np \n",
    "import matplotlib.pyplot as plt\n",
    "import seaborn as sns\n",
    "from warnings import filterwarnings\n",
    "filterwarnings(\"ignore\")\n",
    "import holidays\n",
    "import statsmodels as sm\n",
    "from scipy.stats import ttest_ind\n",
    "from datetime import timedelta, datetime\n",
    "palette1 = [\"efefef\",\"3454d1\",\"34d1bf\",\"00a6fb\",\"d1345b\"]"
   ]
  },
  {
   "cell_type": "code",
   "execution_count": 136,
   "metadata": {},
   "outputs": [],
   "source": [
    "df = pd.read_csv(\"assignment4.1a.csv\", parse_dates=[\"Date\"])\n",
    "df2 = pd.read_csv(\"assignment4.1b.csv\",parse_dates=[\"Date\"])\n",
    "df3 = pd.read_csv(\"assignment4.1c.csv\")\n",
    "df_promo = pd.read_csv(\"PromotionDates.csv\",parse_dates=[\"StartDate\",\"EndDate\"], dayfirst=False)\n",
    "df_promo.replace({\"1/9/2015\":\"9/1/2015\",\n",
    "             \"6/9/2015\":\"9/6/2015\",\n",
    "             \"20/11/2015\":\"11/20/2015\",\n",
    "             \"27/11/2015\":\"11/27/2015\"},inplace=True)"
   ]
  },
  {
   "cell_type": "code",
   "execution_count": 137,
   "metadata": {},
   "outputs": [
    {
     "data": {
      "text/plain": [
       "(179, 33)"
      ]
     },
     "execution_count": 137,
     "metadata": {},
     "output_type": "execute_result"
    }
   ],
   "source": [
    "tr_hol = holidays.country_holidays(\"TR\")\n",
    "\n",
    "promo_dates = []\n",
    "for i in df_promo.Period.tolist():\n",
    "    sd = pd.to_datetime(df_promo[df_promo.Period == i][\"StartDate\"].values[0])\n",
    "    ed = pd.to_datetime(df_promo[df_promo.Period == i][\"EndDate\"].values[0])\n",
    "    promo_dates.extend(pd.date_range(start = sd,end = ed))\n",
    "\n",
    "ff_promo_dates = []\n",
    "for i in df_promo.Period.tolist()[:4]:\n",
    "    sd = pd.to_datetime(df_promo[df_promo.Period == i][\"StartDate\"].values[0])\n",
    "    ed = pd.to_datetime(df_promo[df_promo.Period == i][\"EndDate\"].values[0])\n",
    "    promo_dates.extend(pd.date_range(start = sd,end = ed))\n",
    "\n",
    "first_weekend_after_promo = [x+timedelta(days=7) for x in promo_dates if x.dayofweek in [5,6]]\n",
    "\n",
    "sd= df.Date.min()\n",
    "ed= df.Date.max()\n",
    "\n",
    "first_data_range = pd.date_range(start=sd,end=ed)\n",
    "non_promo_dates = [x for x in first_data_range if x not in promo_dates]\n",
    "non_promo_data = df[df.Date.isin(non_promo_dates)]\n",
    "promo_data = df[~df.Date.isin(non_promo_dates)]\n",
    "non_promo_data.Date.nunique(),promo_data.Date.nunique()\n"
   ]
  },
  {
   "cell_type": "code",
   "execution_count": 138,
   "metadata": {},
   "outputs": [],
   "source": [
    "def label(data = non_promo_data,criterium= \"StoreCode\"):\n",
    "  groups = non_promo_data.groupby(criterium)[\"SalesQuantity\"].sum().reset_index()\n",
    "  groups[[criterium,\"SalesQuantity\"]]\n",
    "  low = groups.SalesQuantity.quantile(0.33)\n",
    "  if criterium==\"StoreCode\":\n",
    "    high = groups.SalesQuantity.quantile(0.66)\n",
    "  else:\n",
    "    high = groups.SalesQuantity.quantile(0.66)\n",
    "  groups[f\"{criterium}_labels\"] = pd.cut(groups[\"SalesQuantity\"],bins = [-np.inf,low,high,np.inf],labels = [\"Slow\",\"Medium\",\"Fast\"])\n",
    "  return groups[[criterium,f\"{criterium}_labels\"]]\n",
    "store_groups = label()\n",
    "product_groups = label(data=non_promo_data,criterium=\"ProductCode\")"
   ]
  },
  {
   "cell_type": "code",
   "execution_count": 139,
   "metadata": {},
   "outputs": [
    {
     "data": {
      "text/html": [
       "<div>\n",
       "<style scoped>\n",
       "    .dataframe tbody tr th:only-of-type {\n",
       "        vertical-align: middle;\n",
       "    }\n",
       "\n",
       "    .dataframe tbody tr th {\n",
       "        vertical-align: top;\n",
       "    }\n",
       "\n",
       "    .dataframe thead th {\n",
       "        text-align: right;\n",
       "    }\n",
       "</style>\n",
       "<table border=\"1\" class=\"dataframe\">\n",
       "  <thead>\n",
       "    <tr style=\"text-align: right;\">\n",
       "      <th></th>\n",
       "      <th>Date</th>\n",
       "      <th>StoreCode</th>\n",
       "      <th>ProductCode</th>\n",
       "      <th>SalesQuantity</th>\n",
       "      <th>ProductGroup1</th>\n",
       "      <th>ProductGroup2</th>\n",
       "    </tr>\n",
       "  </thead>\n",
       "  <tbody>\n",
       "    <tr>\n",
       "      <th>0</th>\n",
       "      <td>2015-01-01</td>\n",
       "      <td>8</td>\n",
       "      <td>9</td>\n",
       "      <td>-1</td>\n",
       "      <td>H</td>\n",
       "      <td>15</td>\n",
       "    </tr>\n",
       "    <tr>\n",
       "      <th>1</th>\n",
       "      <td>2015-01-01</td>\n",
       "      <td>131</td>\n",
       "      <td>9</td>\n",
       "      <td>1</td>\n",
       "      <td>H</td>\n",
       "      <td>15</td>\n",
       "    </tr>\n",
       "    <tr>\n",
       "      <th>2</th>\n",
       "      <td>2015-01-01</td>\n",
       "      <td>144</td>\n",
       "      <td>9</td>\n",
       "      <td>2</td>\n",
       "      <td>H</td>\n",
       "      <td>15</td>\n",
       "    </tr>\n",
       "  </tbody>\n",
       "</table>\n",
       "</div>"
      ],
      "text/plain": [
       "        Date  StoreCode  ProductCode  SalesQuantity ProductGroup1  \\\n",
       "0 2015-01-01          8            9             -1             H   \n",
       "1 2015-01-01        131            9              1             H   \n",
       "2 2015-01-01        144            9              2             H   \n",
       "\n",
       "   ProductGroup2  \n",
       "0             15  \n",
       "1             15  \n",
       "2             15  "
      ]
     },
     "execution_count": 139,
     "metadata": {},
     "output_type": "execute_result"
    }
   ],
   "source": [
    "merged = pd.merge(df,df3, how = \"left\", on = \"ProductCode\")\n",
    "merged.head(3)"
   ]
  },
  {
   "cell_type": "code",
   "execution_count": 140,
   "metadata": {},
   "outputs": [
    {
     "data": {
      "text/html": [
       "<div>\n",
       "<style scoped>\n",
       "    .dataframe tbody tr th:only-of-type {\n",
       "        vertical-align: middle;\n",
       "    }\n",
       "\n",
       "    .dataframe tbody tr th {\n",
       "        vertical-align: top;\n",
       "    }\n",
       "\n",
       "    .dataframe thead th {\n",
       "        text-align: right;\n",
       "    }\n",
       "</style>\n",
       "<table border=\"1\" class=\"dataframe\">\n",
       "  <thead>\n",
       "    <tr style=\"text-align: right;\">\n",
       "      <th></th>\n",
       "      <th>Date</th>\n",
       "      <th>StoreCode</th>\n",
       "      <th>ProductCode</th>\n",
       "      <th>SalesQuantity</th>\n",
       "      <th>ProductGroup1</th>\n",
       "      <th>ProductGroup2</th>\n",
       "      <th>StoreCode_labels</th>\n",
       "      <th>ProductCode_labels</th>\n",
       "    </tr>\n",
       "  </thead>\n",
       "  <tbody>\n",
       "    <tr>\n",
       "      <th>0</th>\n",
       "      <td>2015-01-01</td>\n",
       "      <td>8</td>\n",
       "      <td>9</td>\n",
       "      <td>-1</td>\n",
       "      <td>H</td>\n",
       "      <td>15</td>\n",
       "      <td>Medium</td>\n",
       "      <td>Slow</td>\n",
       "    </tr>\n",
       "    <tr>\n",
       "      <th>1</th>\n",
       "      <td>2015-01-01</td>\n",
       "      <td>131</td>\n",
       "      <td>9</td>\n",
       "      <td>1</td>\n",
       "      <td>H</td>\n",
       "      <td>15</td>\n",
       "      <td>Fast</td>\n",
       "      <td>Slow</td>\n",
       "    </tr>\n",
       "    <tr>\n",
       "      <th>2</th>\n",
       "      <td>2015-01-01</td>\n",
       "      <td>144</td>\n",
       "      <td>9</td>\n",
       "      <td>2</td>\n",
       "      <td>H</td>\n",
       "      <td>15</td>\n",
       "      <td>Slow</td>\n",
       "      <td>Slow</td>\n",
       "    </tr>\n",
       "  </tbody>\n",
       "</table>\n",
       "</div>"
      ],
      "text/plain": [
       "        Date  StoreCode  ProductCode  SalesQuantity ProductGroup1  \\\n",
       "0 2015-01-01          8            9             -1             H   \n",
       "1 2015-01-01        131            9              1             H   \n",
       "2 2015-01-01        144            9              2             H   \n",
       "\n",
       "   ProductGroup2 StoreCode_labels ProductCode_labels  \n",
       "0             15           Medium               Slow  \n",
       "1             15             Fast               Slow  \n",
       "2             15             Slow               Slow  "
      ]
     },
     "execution_count": 140,
     "metadata": {},
     "output_type": "execute_result"
    }
   ],
   "source": [
    "merged = pd.merge(left = merged, right = store_groups, on=\"StoreCode\",how='left')\n",
    "merged = pd.merge(left = merged, right = product_groups, on=\"ProductCode\",how='left')\n",
    "merged.dropna(inplace=True)\n",
    "merged.head(3)"
   ]
  },
  {
   "cell_type": "code",
   "execution_count": 141,
   "metadata": {},
   "outputs": [],
   "source": [
    "product_types = {}\n",
    "for pcode in merged.ProductCode_labels.unique():\n",
    "    pcodes = merged[merged.ProductCode_labels == pcode][\"ProductCode\"].unique()\n",
    "    product_types[pcode] = pcodes\n",
    "\n",
    "store_types = {}\n",
    "for scode in merged.StoreCode_labels.unique():\n",
    "    scodes = merged[merged.StoreCode_labels == scode][\"StoreCode\"].unique()\n",
    "    store_types[scode] = scodes\n"
   ]
  },
  {
   "cell_type": "markdown",
   "metadata": {},
   "source": [
    "#### Q1-c) Which items experienced the biggest sale increase during promotions?"
   ]
  },
  {
   "cell_type": "code",
   "execution_count": 142,
   "metadata": {},
   "outputs": [
    {
     "data": {
      "text/plain": [
       "(5, 26)"
      ]
     },
     "execution_count": 142,
     "metadata": {},
     "output_type": "execute_result"
    }
   ],
   "source": [
    "import math\n",
    "promotion_weeks = math.ceil(promo_data.Date.nunique()/7)\n",
    "non_promotion_weeks = math.ceil(non_promo_data.Date.nunique()/7)\n",
    "promotion_weeks, non_promotion_weeks"
   ]
  },
  {
   "cell_type": "code",
   "execution_count": 143,
   "metadata": {},
   "outputs": [
    {
     "data": {
      "text/html": [
       "<style type=\"text/css\">\n",
       "#T_f5d38_row2_col2 {\n",
       "  background-color: green;\n",
       "}\n",
       "</style>\n",
       "<table id=\"T_f5d38\">\n",
       "  <thead>\n",
       "    <tr>\n",
       "      <th class=\"blank level0\" >&nbsp;</th>\n",
       "      <th id=\"T_f5d38_level0_col0\" class=\"col_heading level0 col0\" >Nonpromotion_avg</th>\n",
       "      <th id=\"T_f5d38_level0_col1\" class=\"col_heading level0 col1\" >Promotion_avg</th>\n",
       "      <th id=\"T_f5d38_level0_col2\" class=\"col_heading level0 col2\" >PrcntChange</th>\n",
       "    </tr>\n",
       "  </thead>\n",
       "  <tbody>\n",
       "    <tr>\n",
       "      <th id=\"T_f5d38_level0_row0\" class=\"row_heading level0 row0\" >Slow Products</th>\n",
       "      <td id=\"T_f5d38_row0_col0\" class=\"data row0 col0\" >1039.654</td>\n",
       "      <td id=\"T_f5d38_row0_col1\" class=\"data row0 col1\" >1213.200</td>\n",
       "      <td id=\"T_f5d38_row0_col2\" class=\"data row0 col2\" >16.693</td>\n",
       "    </tr>\n",
       "    <tr>\n",
       "      <th id=\"T_f5d38_level0_row1\" class=\"row_heading level0 row1\" >Medium Products</th>\n",
       "      <td id=\"T_f5d38_row1_col0\" class=\"data row1 col0\" >17852.500</td>\n",
       "      <td id=\"T_f5d38_row1_col1\" class=\"data row1 col1\" >19900.000</td>\n",
       "      <td id=\"T_f5d38_row1_col2\" class=\"data row1 col2\" >11.469</td>\n",
       "    </tr>\n",
       "    <tr>\n",
       "      <th id=\"T_f5d38_level0_row2\" class=\"row_heading level0 row2\" >Fast Products</th>\n",
       "      <td id=\"T_f5d38_row2_col0\" class=\"data row2 col0\" >111856.423</td>\n",
       "      <td id=\"T_f5d38_row2_col1\" class=\"data row2 col1\" >140860.200</td>\n",
       "      <td id=\"T_f5d38_row2_col2\" class=\"data row2 col2\" >25.929</td>\n",
       "    </tr>\n",
       "  </tbody>\n",
       "</table>\n"
      ],
      "text/plain": [
       "<pandas.io.formats.style.Styler at 0x23c85cf6d90>"
      ]
     },
     "execution_count": 143,
     "metadata": {},
     "output_type": "execute_result"
    }
   ],
   "source": [
    "def format_decimals(x):\n",
    "    return \"{:.3f}\".format(x)\n",
    "def compare_groups(container,code):\n",
    "    avges = {}\n",
    "    for subgroup in container.keys():\n",
    "        promotion_avg_sales = promo_data[promo_data[code].isin(container[subgroup])][\"SalesQuantity\"].sum() / promotion_weeks     \n",
    "        nonpromotion_avg_sales = non_promo_data[non_promo_data[code].isin(container[subgroup])][\"SalesQuantity\"].sum() / non_promotion_weeks\n",
    "        avges[f'{subgroup} {code[:-4]}s'] = [promotion_avg_sales,nonpromotion_avg_sales]\n",
    "\n",
    "\n",
    "    comparison = pd.DataFrame(avges,index = [\"Promotion_avg\",\"Nonpromotion_avg\"]).T\n",
    "    comparison[\"PrcntChange\"] = ((comparison.Promotion_avg  / comparison.Nonpromotion_avg) - 1) * 100\n",
    "    comparison = comparison[[\"Nonpromotion_avg\",\"Promotion_avg\",\"PrcntChange\"]]\n",
    "    comparison = comparison.style.highlight_max(\"PrcntChange\",color = \"green\", axis = 0).format(format_decimals)\n",
    "    return comparison \n",
    "compare_groups(product_types,\"ProductCode\")"
   ]
  },
  {
   "cell_type": "markdown",
   "metadata": {},
   "source": [
    "#### Q1-d) Are there stores that have higher promotion reactions?"
   ]
  },
  {
   "cell_type": "code",
   "execution_count": 144,
   "metadata": {},
   "outputs": [
    {
     "data": {
      "text/html": [
       "<style type=\"text/css\">\n",
       "#T_3c544_row1_col2 {\n",
       "  background-color: green;\n",
       "}\n",
       "</style>\n",
       "<table id=\"T_3c544\">\n",
       "  <thead>\n",
       "    <tr>\n",
       "      <th class=\"blank level0\" >&nbsp;</th>\n",
       "      <th id=\"T_3c544_level0_col0\" class=\"col_heading level0 col0\" >Nonpromotion_avg</th>\n",
       "      <th id=\"T_3c544_level0_col1\" class=\"col_heading level0 col1\" >Promotion_avg</th>\n",
       "      <th id=\"T_3c544_level0_col2\" class=\"col_heading level0 col2\" >PrcntChange</th>\n",
       "    </tr>\n",
       "  </thead>\n",
       "  <tbody>\n",
       "    <tr>\n",
       "      <th id=\"T_3c544_level0_row0\" class=\"row_heading level0 row0\" >Medium Stores</th>\n",
       "      <td id=\"T_3c544_row0_col0\" class=\"data row0 col0\" >35268.077</td>\n",
       "      <td id=\"T_3c544_row0_col1\" class=\"data row0 col1\" >43183.800</td>\n",
       "      <td id=\"T_3c544_row0_col2\" class=\"data row0 col2\" >22.444</td>\n",
       "    </tr>\n",
       "    <tr>\n",
       "      <th id=\"T_3c544_level0_row1\" class=\"row_heading level0 row1\" >Fast Stores</th>\n",
       "      <td id=\"T_3c544_row1_col0\" class=\"data row1 col0\" >73537.077</td>\n",
       "      <td id=\"T_3c544_row1_col1\" class=\"data row1 col1\" >92123.800</td>\n",
       "      <td id=\"T_3c544_row1_col2\" class=\"data row1 col2\" >25.275</td>\n",
       "    </tr>\n",
       "    <tr>\n",
       "      <th id=\"T_3c544_level0_row2\" class=\"row_heading level0 row2\" >Slow Stores</th>\n",
       "      <td id=\"T_3c544_row2_col0\" class=\"data row2 col0\" >21943.423</td>\n",
       "      <td id=\"T_3c544_row2_col1\" class=\"data row2 col1\" >26665.800</td>\n",
       "      <td id=\"T_3c544_row2_col2\" class=\"data row2 col2\" >21.521</td>\n",
       "    </tr>\n",
       "  </tbody>\n",
       "</table>\n"
      ],
      "text/plain": [
       "<pandas.io.formats.style.Styler at 0x23c85d16550>"
      ]
     },
     "execution_count": 144,
     "metadata": {},
     "output_type": "execute_result"
    }
   ],
   "source": [
    "compare_groups(store_types,\"StoreCode\")"
   ]
  },
  {
   "cell_type": "markdown",
   "metadata": {},
   "source": [
    "#### Q1-f)  Is there any significant difference between promotion impacts of the Fast versus Slow items?\n",
    "#### Q1-g)  Is there any significant difference between promotion impacts of the Fast versus Slow stores? "
   ]
  },
  {
   "cell_type": "code",
   "execution_count": 145,
   "metadata": {},
   "outputs": [
    {
     "name": "stdout",
     "output_type": "stream",
     "text": [
      "Is there a significant difference in the effect of promotions on Fast and Slow Products?\n",
      "Yes\n",
      "p value: 0.032\n",
      "Is there a significant difference in the effect of promotions on Fast and Slow Stores?\n",
      "Yes\n",
      "p value: 0.027\n"
     ]
    },
    {
     "data": {
      "text/plain": [
       "True"
      ]
     },
     "execution_count": 145,
     "metadata": {},
     "output_type": "execute_result"
    }
   ],
   "source": [
    "def is_it_significant(container, subgroups, code):\n",
    "    # The function is defined with three parameters: container (presumably a dictionary or data container),\n",
    "    # subgroups (a list of subgroup names), and code (a string representing the code or identifier).\n",
    "\n",
    "    changes = {}\n",
    "    # Create an empty dictionary to store the changes in sales for each subgroup.\n",
    "\n",
    "    for subgroup in subgroups:\n",
    "        # Loop through each subgroup specified in the 'subgroups' list.\n",
    "\n",
    "        records = []\n",
    "        # Create an empty list to store the changes in sales for each subgroup.\n",
    "\n",
    "        for i in container[subgroup]:\n",
    "            # Loop through each element 'i' in the 'container' dictionary under the current 'subgroup'.\n",
    "\n",
    "            pr_vl = promo_data[promo_data[code] == i][\"SalesQuantity\"].values.sum() / promotion_weeks\n",
    "            # Calculate the total sales quantity (pr_vl) of promotions for the current 'i'.\n",
    "\n",
    "            nonpr_vl = non_promo_data[non_promo_data[code] == i][\"SalesQuantity\"].values.sum() / non_promotion_weeks\n",
    "            # Calculate the total sales quantity (nonpr_vl) of non-promotion days for the current 'i'.\n",
    "\n",
    "            change = ((pr_vl / nonpr_vl) - 1) * 100\n",
    "            # Calculate the percentage change in sales due to promotions compared to non-promotion days.\n",
    "\n",
    "            if math.isnan(change):\n",
    "                pass\n",
    "                # If the 'change' value is NaN (due to division by zero or other invalid operations), ignore it.\n",
    "            else:\n",
    "                records.append(change)\n",
    "                # If the 'change' value is valid (not NaN), add it to the 'records' list.\n",
    "\n",
    "        changes[subgroup] = records\n",
    "        # Store the 'records' list of changes in sales for the current 'subgroup' in the 'changes' dictionary.\n",
    "\n",
    "    # The loop ends here, and we have calculated the changes in sales for each subgroup.\n",
    "\n",
    "    rez = ttest_ind(changes[\"Fast\"], changes[\"Slow\"])\n",
    "    # Perform a t-test to check if there is a significant difference\n",
    "    # between the sales changes in the \"Fast\" and \"Slow\" subgroups.\n",
    "\n",
    "    print(f\"Is there a significant difference in the effect of promotions on {subgroups[0]} and {subgroups[1]} {code[:-4]}s?\")\n",
    "    # Print a message indicating what subgroups are being compared (e.g., \"Fast\" and \"Slow\") and the 'code'.\n",
    "\n",
    "    if rez[1] < 0.05:\n",
    "        print(\"Yes\")\n",
    "        # If the p-value from the t-test is less than 0.05 (indicating statistical significance),\n",
    "        # print \"Yes\" to indicate there is a significant difference.\n",
    "    else:\n",
    "        print(\"No\")\n",
    "        # Otherwise, print \"No\" to indicate there is no significant difference.\n",
    "\n",
    "    print(\"p value: {:.2g}\".format(rez[1]))\n",
    "    # Print the p-value in scientific notation with two significant figures.\n",
    "\n",
    "    return rez[1] < 0.05\n",
    "    # Return a boolean value indicating whether the p-value is less than 0.05 (True if significant, False otherwise).\n",
    "\n",
    "# Call the function for product_types and store_types with \"Fast\" and \"Slow\" subgroups and respective codes.\n",
    "is_it_significant(product_types, [\"Fast\", \"Slow\"], \"ProductCode\")\n",
    "is_it_significant(store_types, [\"Fast\", \"Slow\"], \"StoreCode\")\n"
   ]
  }
 ],
 "metadata": {
  "kernelspec": {
   "display_name": "Python 3",
   "language": "python",
   "name": "python3"
  },
  "language_info": {
   "codemirror_mode": {
    "name": "ipython",
    "version": 3
   },
   "file_extension": ".py",
   "mimetype": "text/x-python",
   "name": "python",
   "nbconvert_exporter": "python",
   "pygments_lexer": "ipython3",
   "version": "3.11.4"
  },
  "orig_nbformat": 4
 },
 "nbformat": 4,
 "nbformat_minor": 2
}
